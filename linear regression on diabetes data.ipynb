{
 "cells": [
  {
   "cell_type": "code",
   "execution_count": 46,
   "id": "34d38d7e",
   "metadata": {},
   "outputs": [
    {
     "name": "stdout",
     "output_type": "stream",
     "text": [
      "\n",
      "(442, 10)\n",
      "\n",
      "(442, 10)\n"
     ]
    }
   ],
   "source": [
    "## importing the required libraries \n",
    "import numpy as np\n",
    "import pandas as pd\n",
    "import sklearn as sk\n",
    "import matplotlib.pyplot as plt\n",
    "from sklearn import linear_model\n",
    "from sklearn.metrics import  mean_squared_error\n",
    "from sklearn import datasets \n",
    "diabetes=datasets.load_diabetes() ## importing the sklearn sample data called as diabetes\n",
    "ram=diabetes.data   ### taking impit label as ram \n",
    "print(); print(ram.shape);\n",
    "sita=diabetes.data ## taking target as sita \n",
    "print();print(sita.shape); ## getting the shape of data "
   ]
  },
  {
   "cell_type": "code",
   "execution_count": 12,
   "id": "07482b3b",
   "metadata": {},
   "outputs": [],
   "source": [
    "diabetes_ram=diabetes.data[:,np.newaxis,2]"
   ]
  },
  {
   "cell_type": "code",
   "execution_count": 60,
   "id": "adc84b6f",
   "metadata": {},
   "outputs": [
    {
     "name": "stdout",
     "output_type": "stream",
     "text": [
      " diabetes_ram_data is  [[ 0.08540807]\n",
      " [-0.00081689]\n",
      " [ 0.00672779]\n",
      " [ 0.00888341]\n",
      " [ 0.08001901]\n",
      " [ 0.07139652]\n",
      " [-0.02452876]\n",
      " [-0.0547075 ]\n",
      " [-0.03638469]\n",
      " [ 0.0164281 ]\n",
      " [ 0.07786339]\n",
      " [-0.03961813]\n",
      " [ 0.01103904]\n",
      " [-0.04069594]\n",
      " [-0.03422907]\n",
      " [ 0.00564998]\n",
      " [ 0.08864151]\n",
      " [-0.03315126]\n",
      " [-0.05686312]\n",
      " [-0.03099563]\n",
      " [ 0.05522933]\n",
      " [-0.06009656]\n",
      " [ 0.00133873]\n",
      " [-0.02345095]\n",
      " [-0.07410811]\n",
      " [ 0.01966154]\n",
      " [-0.01590626]\n",
      " [-0.01590626]\n",
      " [ 0.03906215]\n",
      " [-0.0730303 ]]\n"
     ]
    }
   ],
   "source": [
    "print(\" diabetes_ram_data is \",diabetes_ram_test)"
   ]
  },
  {
   "cell_type": "code",
   "execution_count": 63,
   "id": "c568f8fe",
   "metadata": {},
   "outputs": [
    {
     "name": "stdout",
     "output_type": "stream",
     "text": [
      " diabetes_sita_data is  [261. 113. 131. 174. 257.  55.  84.  42. 146. 212. 233.  91. 111. 152.\n",
      " 120.  67. 310.  94. 183.  66. 173.  72.  49.  64.  48. 178. 104. 132.\n",
      " 220.  57.]\n"
     ]
    }
   ],
   "source": [
    "print(\" diabetes_sita_data is \",diabetes_sita_test)"
   ]
  },
  {
   "cell_type": "code",
   "execution_count": 14,
   "id": "f13dde22",
   "metadata": {},
   "outputs": [],
   "source": [
    "diabetes_ram_train=diabetes_ram[:-30] ## selecting first 30 data of ram as test \n",
    "diabetes_ram_test=diabetes_ram[-30:] ### selecting last 30 data of ram as test\n"
   ]
  },
  {
   "cell_type": "code",
   "execution_count": 58,
   "id": "295962eb",
   "metadata": {},
   "outputs": [],
   "source": [
    "diabestes_sita_train=diabetes.target[:-30]\n",
    "diabetes_sita_test=diabetes.target[-30:]\n",
    "model=linear_model.LinearRegression() ## calling the linear regression function \n",
    "model.fit(diabetes_ram_train,diabestes_sita_train) ## fitting the model\n",
    "diabetes_sita_predict= model.predict(diabetes_ram_test) ## predicting the trget "
   ]
  },
  {
   "cell_type": "code",
   "execution_count": 59,
   "id": "a08db33c",
   "metadata": {
    "scrolled": true
   },
   "outputs": [
    {
     "data": {
      "text/plain": [
       "array([233.80294072, 152.62808714, 159.73088683, 161.76025817,\n",
       "       228.72951237, 220.61202701, 130.3050024 , 101.89380365,\n",
       "       119.14346004, 168.86305786, 226.70014103, 116.09940303,\n",
       "       163.78962951, 115.08471736, 121.17283138, 158.71620116,\n",
       "       236.84699773, 122.18751705,  99.86443231, 124.21688839,\n",
       "       205.39174197,  96.8203753 , 154.65745848, 131.31968807,\n",
       "        83.62946159, 171.90711487, 138.42248776, 138.42248776,\n",
       "       190.17145692,  84.64414726])"
      ]
     },
     "execution_count": 59,
     "metadata": {},
     "output_type": "execute_result"
    }
   ],
   "source": [
    "diabetes_sita_predict"
   ]
  },
  {
   "cell_type": "code",
   "execution_count": 29,
   "id": "26f3c774",
   "metadata": {},
   "outputs": [
    {
     "name": "stdout",
     "output_type": "stream",
     "text": [
      "mean_squared_error is  3035.060115291269\n"
     ]
    }
   ],
   "source": [
    "## getting the mean squared error as output \n",
    "print (\"mean_squared_error is \",mean_squared_error(diabetes_sita_test,diabetes_sita_predict))"
   ]
  },
  {
   "cell_type": "code",
   "execution_count": 49,
   "id": "410354bc",
   "metadata": {},
   "outputs": [
    {
     "data": {
      "text/plain": [
       "[<matplotlib.lines.Line2D at 0x1fed1c530d0>]"
      ]
     },
     "execution_count": 49,
     "metadata": {},
     "output_type": "execute_result"
    },
    {
     "data": {
      "image/png": "[encoded data removed]",
      "text/plain": [
       "<Figure size 640x480 with 1 Axes>"
      ]
     },
     "metadata": {},
     "output_type": "display_data"
    }
   ],
   "source": [
    "plt.scatter(diabetes_ram_test,diabetes_sita_test)\n",
    "plt.plot(diabetes_ram_test,diabetes_sita_predict,c=\"r\")"
   ]
  },
  {
   "cell_type": "code",
   "execution_count": 56,
   "id": "6e62e0b5",
   "metadata": {},
   "outputs": [
    {
     "name": "stdout",
     "output_type": "stream",
     "text": [
      "intercenpt is : 153.39713623331644\n"
     ]
    }
   ],
   "source": [
    "print(\"intercenpt is :\",model.intercept_)"
   ]
  },
  {
   "cell_type": "code",
   "execution_count": 57,
   "id": "6a9fc5df",
   "metadata": {},
   "outputs": [
    {
     "name": "stdout",
     "output_type": "stream",
     "text": [
      "weight of model is  [941.43097333]\n"
     ]
    }
   ],
   "source": [
    "print(\"weight of model is \",model.coef_)"
   ]
  },
  {
   "cell_type": "code",
   "execution_count": 68,
   "id": "d68800bc",
   "metadata": {},
   "outputs": [
    {
     "name": "stdout",
     "output_type": "stream",
     "text": [
      "168.863058406279\n"
     ]
    }
   ],
   "source": [
    "print ((.0164281 *941.43097333)+153.39713623331644) ## predicted value at 0.0164281"
   ]
  },
  {
   "cell_type": "code",
   "execution_count": 62,
   "id": "ca337408",
   "metadata": {},
   "outputs": [
    {
     "data": {
      "text/plain": [
       "168.863058406279"
      ]
     },
     "execution_count": 62,
     "metadata": {},
     "output_type": "execute_result"
    }
   ],
   "source": [
    "output"
   ]
  },
  {
   "cell_type": "code",
   "execution_count": null,
   "id": "61b76eae",
   "metadata": {},
   "outputs": [],
   "source": []
  }
 ],
 "metadata": {
  "kernelspec": {
   "display_name": "Python 3 (ipykernel)",
   "language": "python",
   "name": "python3"
  },
  "language_info": {
   "codemirror_mode": {
    "name": "ipython",
    "version": 3
   },
   "file_extension": ".py",
   "mimetype": "text/x-python",
   "name": "python",
   "nbconvert_exporter": "python",
   "pygments_lexer": "ipython3",
   "version": "3.10.5"
  }
 },
 "nbformat": 4,
 "nbformat_minor": 5
}
